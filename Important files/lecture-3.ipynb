{
 "cells": [
  {
   "cell_type": "markdown",
   "metadata": {},
   "source": [
    "<font size=\"8\">\n",
    "<b>Python for Mathematical Finance</b><br/>\n",
    "Lecture 3: Monte-Carlo methods with NumPy\n",
    "</font>\n",
    "\n",
    "Lecturer: Mikhail Zhitlukhin"
   ]
  },
  {
   "cell_type": "code",
   "execution_count": 1,
   "metadata": {},
   "outputs": [],
   "source": [
    "from math import *\n",
    "import numpy as np\n",
    "import scipy.stats as st     # we need this for working with the normal distribution"
   ]
  },
  {
   "cell_type": "markdown",
   "metadata": {},
   "source": [
    "# 1. Monte-Carlo simulations: basic examples"
   ]
  },
  {
   "cell_type": "markdown",
   "metadata": {},
   "source": [
    "## 1.1. Monte-Carlo for a single random variable"
   ]
  },
  {
   "cell_type": "markdown",
   "metadata": {},
   "source": [
    "The **Monte-Carlo method** of computation of the expected value $E X$ consists in simulating a sample $(x_i)_{i=1}^n$ from the distribution of $X$ and approximating\n",
    "$$\n",
    "E X \\approx \\bar x := \\frac1n \\sum_{i=1}^n x_n.\n",
    "$$\n",
    "From the Central Limit Theorem, we find a confidence interval of probability $p$\n",
    "$$\n",
    "E X \\in \\left[\n",
    "  \\bar x - z_{\\alpha/2} \\frac{s}{\\sqrt n}, \\quad \n",
    "  \\bar x + z_{\\alpha/2} \\frac{s}{\\sqrt n}\n",
    "\\right],\n",
    "$$\n",
    "where $\\alpha=1-p$ and $z_{\\alpha/2}$ is the critical value at level $\\alpha/2$, i.e. $P(Z> z_{\\alpha/2}) = \\alpha/2$ for $Z\\sim N(0,1)$, and $s$ denote the sample standard deviation\n",
    "$$\n",
    "s = \\sqrt{\\frac1{n-1} \\sum_{i=1}^n (x_i-\\bar x)^2}.\n",
    "$$\n",
    "A typical value is $p=0.95$. Then $z_{\\alpha/2} = 1.96$."
   ]
  },
  {
   "cell_type": "markdown",
   "metadata": {},
   "source": [
    "**Example.** We will compute the $k$-th moment $\\mu_k$ of the standard normal distribution for $k=1,\\dots,m$.\n",
    "Recall that the theoretical value \n",
    "$$\n",
    "\\mu_k = \\begin{cases}\n",
    "(k-1)!!, &\\text{if $k$ is even},\\\\\n",
    "0, &\\text{if $k$ is odd},\n",
    "\\end{cases}\n",
    "$$\n",
    "where $(k-1)!! = (k-1)\\cdot(k-3)\\cdot\\ldots\\cdot 1$."
   ]
  },
  {
   "cell_type": "code",
   "execution_count": 2,
   "metadata": {},
   "outputs": [
    {
     "name": "stdout",
     "output_type": "stream",
     "text": [
      "Absolute moment of order 1: -0.001 ± 0.006 (theoretical value: 0)\n",
      "Absolute moment of order 2: 0.998 ± 0.009 (theoretical value: 1)\n",
      "Absolute moment of order 3: -0.011 ± 0.024 (theoretical value: 0)\n",
      "Absolute moment of order 4: 2.996 ± 0.061 (theoretical value: 3)\n",
      "Absolute moment of order 5: -0.093 ± 0.188 (theoretical value: 0)\n",
      "Absolute moment of order 6: 15.005 ± 0.599 (theoretical value: 15)\n"
     ]
    }
   ],
   "source": [
    "n = 100000  # number of simulations\n",
    "m = 6       # number of moments to compute\n",
    "\n",
    "X = np.random.randn(n)\n",
    "for k in range (1, m+1):\n",
    "    x = np.mean(X**k)\n",
    "    s = np.std(X**k, ddof=1)\n",
    "    moe = 1.96*s/sqrt(n)\n",
    "    if k % 2 == 0:\n",
    "        th_value = prod(range(1, k, 2))\n",
    "    else:\n",
    "        th_value = 0\n",
    "    print(f\"Absolute moment of order {k}: {x:.3f} ± {moe:.3f} (theoretical value: {th_value})\")"
   ]
  },
  {
   "cell_type": "markdown",
   "metadata": {},
   "source": [
    "## 1.2. Monte-carlo for random processes"
   ]
  },
  {
   "cell_type": "markdown",
   "metadata": {},
   "source": [
    "In the next example, we will simulate trajectories of a geometric Brownian motion and compute the price of a barrier call option in the Black-Scholes model using Monte-Carlo. The payoff of this option is \n",
    "$$\n",
    "X = (S_T - K)^+ I(\\max_{u\\le t} S_u \\le B),\n",
    "$$\n",
    "where $B$ is the barrier (i.e. the option can be exercised only if the underlying asset price stays below the barrier)."
   ]
  },
  {
   "cell_type": "code",
   "execution_count": 3,
   "metadata": {},
   "outputs": [
    {
     "name": "stdout",
     "output_type": "stream",
     "text": [
      "Barrier option price: 1.3400793862107838 ± 0.06828144772621086\n"
     ]
    }
   ],
   "source": [
    "# Model parameters (assume r=0)\n",
    "s0 = 100\n",
    "t = 1\n",
    "sigma = 0.2\n",
    "B = 120\n",
    "K = 100\n",
    "\n",
    "paths = 10000       # number of trajectories to simulate\n",
    "steps = 250         # number of time steps (250 is approximately 1 year)\n",
    "\n",
    "dt = t/steps\n",
    "T = np.linspace(0, t, steps+1)\n",
    "\n",
    "# Brownian increments and trajectories\n",
    "dW = sqrt(dt) * np.random.randn(steps, paths)\n",
    "W = np.concatenate([np.zeros((1,paths)), np.cumsum(dW, axis=0)])\n",
    "\n",
    "# Stock prices\n",
    "# Note we have to use transposition to apply broadcasting (and then we need to transpose back)\n",
    "S = s0*np.exp(sigma*W.T - sigma**2/2*T).T\n",
    "\n",
    "# Payoffs\n",
    "X = np.maximum(S[-1] - K, 0) * np.all(S < B, axis=0)\n",
    "\n",
    "print(f\"Barrier option price:\", np.mean(X), \"±\", 1.96*np.std(X, ddof=1)/sqrt(paths))"
   ]
  },
  {
   "cell_type": "markdown",
   "metadata": {},
   "source": [
    "# 2. Monte-Carlo with automatic selection of the sample size"
   ]
  },
  {
   "cell_type": "markdown",
   "metadata": {},
   "source": [
    "The main problem in the above examples is that we cannot guarantee a desired m.o.e. (margin of error, $1/2$ of the length of the confidence interval), unless we try several values of the sample size. A better implementation would simulate random values one by one and stop as soon as it reaches the desired m.o.e.\n",
    "\n",
    "The corresponding algorithm is as follows.\n",
    "\n",
    "Let $\\bar x_n$ denote the current sample mean, $s_n$ denote the current standard error (\"current\" means for a sample of size $n$):\n",
    "$$\n",
    "\\bar x_n = \\frac1n \\sum_{i=1}^n x_i, \\qquad\n",
    "s_n = \\sqrt{\\frac1{n-1}\\sum_{i=1}^n (x_i - \\bar x_n)^2}.\n",
    "$$\n",
    "\n",
    "1\\. Choose the desired margin of error $\\epsilon > 0$. Initialize $\\bar x_0 = 0$, $\\overline{x^2_0} = 0$. \n",
    "\n",
    "2\\. On step $n$: let $x_n \\leftarrow X$, where $X$ is a new realization of the random variable, and update\n",
    "$$\n",
    "\\bar x_n = \\frac{(n-1)\\,\\bar x_{n-1} + x_n}{n}, \\qquad\n",
    "\\bar{x_n^2} = \\frac{(n-1)\\,\\overline{x_{n-1}^2} + x_n^2}{n}, \\qquad\n",
    "s_n = \\sqrt{\\frac{n}{n-1} \\left(\\overline{x_n^2} - (\\bar x_n)^2\\right)}.\n",
    "$$\n",
    "Compute the current margin or error:\n",
    "$$\n",
    "\\epsilon_{n} = z\\frac{s_n}{\\sqrt{n}}.\n",
    "$$\n",
    "\n",
    "3\\. If $\\epsilon_n > \\epsilon$, continue to step $n+1$, else stop.\n",
    "\n",
    "**Remark.** The formula for $s_n$ follows from that\n",
    "$$\n",
    "s_n = \\sqrt{\\frac{n}{n-1} \\left(\\overline{x_n^2} - (\\bar x_n)^2\\right)}, \\qquad\n",
    "\\overline{x_n^2} =\\frac 1n \\sum\\limits_{i=1}^n x_i^2.\n",
    "$$"
   ]
  },
  {
   "cell_type": "markdown",
   "metadata": {},
   "source": [
    "## 2.1. Implementation with Python loops (slow!)"
   ]
  },
  {
   "cell_type": "markdown",
   "metadata": {},
   "source": [
    "Below we define:\n",
    "1. A class to store the result of a single run of the Monte-Carlo method: sample mean, margin of error, number of simulations (we will discuss Python classes later).\n",
    "2. A general function to run Monte-Carlo, which can be passed a *simulator* function and a *transformer* function: we will compute $E f(X)$, where random realizations of $X$ are provided by the simulator, and $f$ is the transformer."
   ]
  },
  {
   "cell_type": "code",
   "execution_count": 4,
   "metadata": {},
   "outputs": [],
   "source": [
    "# @dataclass is convenient language structure to define classes which just store some parameters\n",
    "from dataclasses import dataclass\n",
    "\n",
    "# The text in the triple quotes below is a docstring (documentation string), it is not executed.\n",
    "# We will discuss docstrings later.\n",
    "@dataclass\n",
    "class MCResult:\n",
    "    \"\"\"Results of Monte-Carlo simulation.\n",
    "    \n",
    "    Attributes:\n",
    "        x: Mean of random variates (the estimate of the sought-for value).\n",
    "        error: Margin of error (half of the confidence interval).\n",
    "        n: Number of simulations.\n",
    "    \"\"\"\n",
    "    x: float\n",
    "    error: float    \n",
    "    n: int\n",
    "\n",
    "        \n",
    "def monte_carlo(simulator, f, error = 1e-3, conf_level = 0.95, max_paths = 10000000):\n",
    "    \"\"\"Estimates the expectation of a random variable by the Monte-Carlo method.\n",
    "\n",
    "    This function computes the expected value `E(f(X))`, where `f` is the\n",
    "    provided function and `X` is a random variable which is simulated by\n",
    "    calling `simulator`. \n",
    "\n",
    "    Args:\n",
    "        simulator: Function which produces random realizations.\n",
    "        f: Function which is applied to random realizations. \n",
    "        error: Desired margin of error.\n",
    "        conf_level: Confidence level.\n",
    "        max_paths: Maximum number of paths to simulate. The desired margin of \n",
    "        error may be not reached if more than `max_paths` paths are required.\n",
    "\n",
    "    Returns:\n",
    "        An `MCResult` structure with simulation results.\n",
    "    \"\"\"\n",
    "    z = st.norm.ppf((1+conf_level)/2)   # ppf is the inverse of the normal distribution function\n",
    "    x = 0      # estimate of `E(f(X))`\n",
    "    x_sq = 0   # estimate of `E(f(X)^2)`\n",
    "    s = 0      # standard error of x\n",
    "    n = 0      # paths counter\n",
    "    while (n < 10 or (z*s/sqrt(n) > error and n < max_paths)):\n",
    "        y = f(simulator())\n",
    "        x = (x*n + y)/(n+1)                 \n",
    "        x_sq = (x_sq*n + y**2) / (n+1)      \n",
    "        s = sqrt(x_sq - x**2)  \n",
    "        n += 1       \n",
    "    \n",
    "    return MCResult(x, z*s/sqrt(n), n)"
   ]
  },
  {
   "cell_type": "code",
   "execution_count": 5,
   "metadata": {},
   "outputs": [
    {
     "name": "stdout",
     "output_type": "stream",
     "text": [
      "MCResult(x=1.0111141060978963, error=0.009999952586337136, n=78302)\n"
     ]
    }
   ],
   "source": [
    "# Results\n",
    "res = monte_carlo(np.random.randn, lambda x: x**2, error=0.01)\n",
    "print(res)"
   ]
  },
  {
   "cell_type": "markdown",
   "metadata": {},
   "source": [
    "To evaluate the speed of code, we can use the Jupyter magic `%time` or `%timeit`:\n",
    "* `%time` measures a single execution of code,\n",
    "* `%timeit` makes several measurements and computes the average time."
   ]
  },
  {
   "cell_type": "code",
   "execution_count": 6,
   "metadata": {},
   "outputs": [
    {
     "name": "stdout",
     "output_type": "stream",
     "text": [
      "55.7 ms ± 1.17 ms per loop (mean ± std. dev. of 7 runs, 10 loops each)\n"
     ]
    }
   ],
   "source": [
    "%timeit monte_carlo(np.random.randn, lambda x: x**2, error=0.01)"
   ]
  },
  {
   "cell_type": "markdown",
   "metadata": {},
   "source": [
    "## 2.2. Implementation with NumPy (fast)"
   ]
  },
  {
   "cell_type": "markdown",
   "metadata": {},
   "source": [
    "NumPy is fast when you apply functions to large arrays. In order to achieve this for our implementation of the Monte-Carlo method, we have to rewrite it and simulate random values in batches (groups of values). We'll add a corresponding parameter to the `monte_carlo` function to control the batch size.\n",
    "\n",
    "We'll use the same function name, `monte_carlo`, it will overwrite the above function."
   ]
  },
  {
   "cell_type": "code",
   "execution_count": 7,
   "metadata": {},
   "outputs": [],
   "source": [
    "def monte_carlo(simulator, f, error=1e-3, conf_level=0.95, max_paths=10000000, \n",
    "                batch_size=10000):\n",
    "    \"\"\"Estimates expectation of a random variable by the Monte-Carlo method.\n",
    "\n",
    "    This function computes the expected value `E(f(X))`, where `f` is the\n",
    "    provided function and `X` is a random element which is simulated by\n",
    "    calling `simulator`. \n",
    "\n",
    "    Args:\n",
    "      simulator: Function which produces random realizations. It must be of the\n",
    "          form `simulator(n)`, where `n` is the number of realizations to produce\n",
    "          (it will be called with `n=batch_size`).\n",
    "      f: Function to apply to random realizations. It must accept a whole batch\n",
    "          of realizations and return an array which contains the results of\n",
    "          applying the function to each realization in the batch, i.e. when called\n",
    "          as `f(simulator(n))`, it must return an array of length `n`.\n",
    "      error: Desired margin of error.\n",
    "      conf_level: Confidence level.\n",
    "      max_paths: Maximum number of paths to simulate. The desired margin of\n",
    "          error may be not reached if more than `max_paths` paths are required.\n",
    "      batch_size: The size of one batch.\n",
    "\n",
    "     Returns:\n",
    "        An `MCResult` structure with simulation results.\n",
    "    \"\"\"\n",
    "    z = st.norm.ppf((1+conf_level)/2)\n",
    "    x = 0      # estimate of `E(f(X))`\n",
    "    x_sq = 0   # estimate of `E(f(X)^2)`\n",
    "    s = 0      # standard error of x\n",
    "    n = 0      # batches counter (number of paths = n*batch_size)    \n",
    "    \n",
    "    while (n==0 or (z*s/sqrt(n*batch_size) > error and n*batch_size < max_paths)):\n",
    "        y = f(simulator(batch_size))\n",
    "        x = (x*n + np.mean(y))/(n+1)\n",
    "        x_sq = (x_sq*n + np.mean(y**2)) / (n+1)\n",
    "        s = sqrt(x_sq - x**2) \n",
    "        n += 1\n",
    "    \n",
    "    return MCResult(x, z*s/sqrt(n*batch_size), n*batch_size)"
   ]
  },
  {
   "cell_type": "code",
   "execution_count": 8,
   "metadata": {},
   "outputs": [
    {
     "name": "stdout",
     "output_type": "stream",
     "text": [
      "MCResult(x=0.9912007502398734, error=0.009736694550027649, n=80000)\n"
     ]
    }
   ],
   "source": [
    "# Results: to check that the new realization works as expected\n",
    "res = monte_carlo(np.random.randn, lambda x: x**2, error=0.01)\n",
    "print(res)"
   ]
  },
  {
   "cell_type": "code",
   "execution_count": 9,
   "metadata": {},
   "outputs": [
    {
     "name": "stdout",
     "output_type": "stream",
     "text": [
      "1.2 ms ± 20.2 µs per loop (mean ± std. dev. of 7 runs, 1,000 loops each)\n"
     ]
    }
   ],
   "source": [
    "# This should be much faster - compare with the previous %timeit\n",
    "%timeit monte_carlo(np.random.randn, lambda x: x**2, error=0.01)"
   ]
  },
  {
   "cell_type": "markdown",
   "metadata": {},
   "source": [
    "## 2.3. Example: barrier option"
   ]
  },
  {
   "cell_type": "markdown",
   "metadata": {},
   "source": [
    "The `monte_carlo` function we've implemented is very general: it can accept not only scalar random variables, but also trajectories of random processes. \n",
    "\n",
    "For example, a call of `simulator(n)` can return an array of shape `(m,n)` where `m` is the number of time steps in a trajectory and `n` is the number of trajectories. \n",
    "The transformer function `f` must be modified appropriately."
   ]
  },
  {
   "cell_type": "code",
   "execution_count": 10,
   "metadata": {},
   "outputs": [],
   "source": [
    "def bs_simulator(paths, t, steps, s0, sigma, r=0):\n",
    "    \"\"\"Simulation of the price process in the Black-Scholes model.\n",
    "    \n",
    "    Args:\n",
    "        paths: Number of paths to simulate.\n",
    "        t: Time horizon.\n",
    "        steps: Number of simulation steps.\n",
    "        s0: Initial stock price.\n",
    "        sigma: Volatility.\n",
    "        r: Risk-free interest rate.\n",
    "      \n",
    "    Returns:\n",
    "        An array of shape `(steps+1, paths)` with simulated paths at points\n",
    "        `t_i = i*t/n`, where `i=0,1,...,steps`.\n",
    "    \"\"\"\n",
    "    dt = t/steps\n",
    "    dlogS = sigma*np.random.randn(steps, paths)*np.sqrt(dt) + (r-sigma**2/2)*dt\n",
    "    logS = np.concatenate((np.zeros((1,paths)), np.cumsum(dlogS, axis=0)), axis=0)\n",
    "    return s0*np.exp(logS)   "
   ]
  },
  {
   "cell_type": "code",
   "execution_count": 11,
   "metadata": {},
   "outputs": [
    {
     "data": {
      "image/png": "[encoded data removed]",
      "text/plain": [
       "<Figure size 640x480 with 1 Axes>"
      ]
     },
     "metadata": {},
     "output_type": "display_data"
    }
   ],
   "source": [
    "# An example of how the above function works\n",
    "import matplotlib.pyplot as plt\n",
    "plt.plot(bs_simulator(5, 1, 100, 100, 0.2))\n",
    "plt.show()"
   ]
  },
  {
   "cell_type": "markdown",
   "metadata": {},
   "source": [
    "Now we can apply our Monte-Carlo method to compute the price of the barrier option. For the payoff function, which can work with batches of trajectories, we use the definition from part 1."
   ]
  },
  {
   "cell_type": "code",
   "execution_count": 12,
   "metadata": {},
   "outputs": [
    {
     "name": "stdout",
     "output_type": "stream",
     "text": [
      "MCResult(x=3.145938193544767, error=0.00998989545537165, n=1460000)\n"
     ]
    }
   ],
   "source": [
    "# Model parameters\n",
    "t = 1\n",
    "steps = 250\n",
    "s0 = 100\n",
    "sigma = 0.2\n",
    "K = 100\n",
    "B = 130\n",
    "\n",
    "barrier_payoff = lambda S: np.maximum(S[-1] - K, 0) * np.all(S < B, axis=0)\n",
    "\n",
    "res = monte_carlo(lambda n: bs_simulator(n, t, steps, s0, sigma), barrier_payoff, error=0.01)\n",
    "print(res)"
   ]
  },
  {
   "cell_type": "markdown",
   "metadata": {},
   "source": [
    "# 3. Monte-Carlo with a control variate"
   ]
  },
  {
   "cell_type": "markdown",
   "metadata": {},
   "source": [
    "In order to reduce the number of simulations needed to achieve the desired margin of error, one can reduce the sample variance of $E(X)$.\n",
    "This can be done by simulating the variable $X - \\theta Y$, where $Y$ is a random variable with zero mean.\n",
    "Usually, we take $Y=g(X)$ for some specific function $g(x)$, which must be chosen depending on the nature of the problem.\n",
    "Such a variable $Y$ is called a *control variate*.\n",
    "\n",
    "The coefficient $\\theta$ must be selected in an optimal way. The least variance of $X - \\theta Y$ is attained at $\\theta = \\mathrm{cov}(X,Y)/\\mathrm{D}(Y)$. The variance $\\mathrm{D}(Y)$ can be also estimated by the Monte-Carlo method, but with a small number of simulations (as we do not need a great precision here)."
   ]
  },
  {
   "cell_type": "code",
   "execution_count": 13,
   "metadata": {},
   "outputs": [],
   "source": [
    "# Redefine the MCResults class to store the value of the control variate (for information purposes)\n",
    "@dataclass\n",
    "class MCResult:\n",
    "    \"\"\"Results of Monte-Carlo simulation.\n",
    "    \n",
    "    Attributes:\n",
    "        x: Mean of random variates (the estimate of the sought-for value).\n",
    "        error: Margin of error (half of the confidence interval).\n",
    "        paths: Number of simulated paths.\n",
    "        control_var_coef: An estimate of the control variate coefficient `theta`.\n",
    "    \"\"\"\n",
    "    x: float\n",
    "    error: float    \n",
    "    paths: int    \n",
    "    control_var_coef: float = None   # `theta` coefficient      "
   ]
  },
  {
   "cell_type": "code",
   "execution_count": 14,
   "metadata": {},
   "outputs": [],
   "source": [
    "  # New implementation with a control variate \n",
    "def monte_carlo(simulator, f, error=1e-3, conf_level=0.95, max_paths=10000000, \n",
    "                batch_size=10000, control_f=None, control_estimation_paths=5000):\n",
    "    \"\"\"Estimates expectation of a random variable by the Monte-Carlo method.\n",
    "\n",
    "    This function computes the expected value `E(f(X))`, where `f` is the\n",
    "    provided function and `X` is a random element which is simulated by\n",
    "    calling `simulator`. \n",
    "    \n",
    "    A control variate can be added: if `control_f` is not None, then we simulate\n",
    "    `f(X) - theta*control_f(X)`, where the optimal coefficient `theta` is \n",
    "    estimated from a simulation of `control_estimation_paths` paths. The random \n",
    "    variable `control_f(X)` must have zero expectation.\n",
    "\n",
    "    Args:\n",
    "      simulator: Function which produces random realizations. It must be of the \n",
    "          form `simulator(n)`, where `n` is the number of realizations to produce \n",
    "          (it will be called with `n=batch_size` or `n=control_estimation_paths`). \n",
    "      f: Function to apply to the random realizations. It must accept a whole \n",
    "          batch of realizations and return an array which contains results of\n",
    "          applying the function to each realization in the batch, i.e. when called \n",
    "          as `f(simulator(n))`, it must return an array of length `n`.\n",
    "      error: Desired margin of error.\n",
    "      conf_level: Confidence level.\n",
    "      max_paths: Maximum number of paths to simulate (to avoid too long \n",
    "          simulation time). The desired margin of error may be not reached\n",
    "          if more than `max_paths` paths are required.\n",
    "      batch_size: The size of one batch.\n",
    "      control_f: Function applied to random realizations to obtain a control variate. \n",
    "          Must satisfy the same requirements as `f`.\n",
    "      control_estimation_paths: Number of paths to simulate for the estimation\n",
    "          of the control variate coefficient.\n",
    "\n",
    "    Returns:\n",
    "        An `MCResult` structure with simulation results.\n",
    "    \"\"\"\n",
    "    z = st.norm.ppf((1+conf_level)/2)\n",
    "    x = 0          # estimate of `E(f(X))`\n",
    "    x_sq = 0       # estimate of `E(f(X)^2)`\n",
    "    s = 0          # standard error of x\n",
    "    n = 0          # batches counter (number of paths = n*batch_size)  \n",
    "    theta = None   # control variate coefficient\n",
    "    \n",
    "    if control_f is not None:\n",
    "        S = simulator(control_estimation_paths)\n",
    "        c = np.cov(f(S), control_f(S))    # c is the covariance matrix for the two random variables\n",
    "        theta = c[0, 1] / c[1, 1]\n",
    "    \n",
    "    while (n==0 or (z*s/sqrt(n*batch_size) > error and n*batch_size < max_paths)):\n",
    "        S = simulator(batch_size)\n",
    "        if control_f is not None:\n",
    "            y = f(S) - theta*control_f(S)\n",
    "        else:\n",
    "            y = f(S) \n",
    "        x = (x*n + np.mean(y))/(n+1)\n",
    "        x_sq = (x_sq*n + np.mean(y**2)) / (n+1)\n",
    "        s = sqrt(x_sq - x**2) \n",
    "        n += 1\n",
    "    \n",
    "    return MCResult(x, z*s/sqrt(n*batch_size), n*batch_size, theta) "
   ]
  },
  {
   "cell_type": "markdown",
   "metadata": {},
   "source": [
    "**Example.** We will compute the price of a vanilla call option with and without a control variate. We'll see that using a control variate greatly reduces the required number of simulations.\n",
    "\n",
    "As a control variate, we'll use $Y=S_T-S_0$. If the interest rate $r=0$, we have $E Y = 0$ under the martingale measure."
   ]
  },
  {
   "cell_type": "code",
   "execution_count": 15,
   "metadata": {},
   "outputs": [
    {
     "name": "stdout",
     "output_type": "stream",
     "text": [
      "Without a control variate\n",
      "MCResult(x=7.959845484829487, error=0.009996576459871866, paths=6640000, control_var_coef=None)\n",
      "With a control variate\n",
      "MCResult(x=7.961717618402934, error=0.009969469410658119, paths=1390000, control_var_coef=0.5844848508379353)\n"
     ]
    }
   ],
   "source": [
    "# Model parameters\n",
    "t = 1\n",
    "steps = 250\n",
    "s0 = 100\n",
    "sigma = 0.2\n",
    "K = 100\n",
    "\n",
    "payoff = lambda S: np.maximum(S[-1] - K, 0)\n",
    "control_f = lambda S: S[-1] - s0\n",
    "\n",
    "print(\"Without a control variate\")\n",
    "res1 = monte_carlo(lambda n: bs_simulator(n, t, steps, s0, sigma), payoff, error=0.01)\n",
    "print(res1)\n",
    "\n",
    "print(\"With a control variate\")\n",
    "res2 = monte_carlo(lambda n: bs_simulator(n, t, steps, s0, sigma), payoff, error=0.01, control_f=control_f)\n",
    "print(res2)"
   ]
  }
 ],
 "metadata": {
  "kernelspec": {
   "display_name": "Python 3",
   "language": "python",
   "name": "python3"
  },
  "language_info": {
   "codemirror_mode": {
    "name": "ipython",
    "version": 3
   },
   "file_extension": ".py",
   "mimetype": "text/x-python",
   "name": "python",
   "nbconvert_exporter": "python",
   "pygments_lexer": "ipython3",
   "version": "3.11.5"
  },
  "orig_nbformat": 4
 },
 "nbformat": 4,
 "nbformat_minor": 2
}
